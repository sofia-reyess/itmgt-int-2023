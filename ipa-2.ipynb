{
 "cells": [
  {
   "cell_type": "code",
   "execution_count": 108,
   "id": "e630bfcd-8f61-4b5d-b6f7-7deeb1138f9f",
   "metadata": {},
   "outputs": [],
   "source": [
    "def shift_letter(letter, shift):\n",
    "    '''Shift Letter.\n",
    "    5 points.\n",
    "\n",
    "    Shift a letter right by the given number.\n",
    "    Wrap the letter around if it reaches the end of the alphabet.\n",
    "\n",
    "    Examples:\n",
    "    shift_letter(\"A\", 0) -> \"A\"\n",
    "    shift_letter(\"A\", 2) -> \"C\"\n",
    "    shift_letter(\"Z\", 1) -> \"A\"\n",
    "    shift_letter(\"X\", 5) -> \"C\"\n",
    "    shift_letter(\" \", _) -> \" \"\n",
    "\n",
    "    *Note: the single underscore `_` is used to acknowledge the presence\n",
    "        of a value without caring about its contents.\n",
    "\n",
    "    Parameters\n",
    "    ----------\n",
    "    letter: str\n",
    "        a single uppercase English letter, or a space.\n",
    "    shift: int\n",
    "        the number by which to shift the letter.\n",
    "\n",
    "    Returns\n",
    "    -------\n",
    "    str\n",
    "        the letter, shifted appropriately, if a letter.\n",
    "        a single space if the original letter was a space.\n",
    "    '''\n",
    "    # Replace `pass` with your code.\n",
    "    # Stay within the function. Only use the parameters as input. The function should return your answer.\n",
    "    if letter == \" \":\n",
    "        return \" \" \n",
    "    \n",
    "    alphabet = list(\"ABCDEFGHIJKLMNOPQRSTUVWXYZ\")\n",
    "    shift_letter = alphabet[(alphabet.index(letter) + shift) % len(alphabet)] \n",
    "    \n",
    "    return(shift_letter)"
   ]
  },
  {
   "cell_type": "code",
   "execution_count": 109,
   "id": "ed6c36a5-19d0-42a8-ad12-e0bf78b73784",
   "metadata": {},
   "outputs": [
    {
     "data": {
      "text/plain": [
       "'G'"
      ]
     },
     "execution_count": 109,
     "metadata": {},
     "output_type": "execute_result"
    }
   ],
   "source": [
    "shift_letter(\"C\", 4)"
   ]
  },
  {
   "cell_type": "code",
   "execution_count": 110,
   "id": "28a7d0bc-2bf8-4a02-a234-88a4413acc2c",
   "metadata": {},
   "outputs": [],
   "source": [
    "  def caesar_cipher(message, shift):\n",
    "    '''Caesar Cipher.\n",
    "    10 points.\n",
    "\n",
    "    Apply a shift number to a string of uppercase English letters and spaces.\n",
    "\n",
    "    Parameters\n",
    "    ----------\n",
    "    message: str\n",
    "        a string of uppercase English letters and spaces.\n",
    "    shift: int\n",
    "        the number by which to shift the letters.\n",
    "\n",
    "    Returns\n",
    "    -------\n",
    "    str\n",
    "        the message, shifted appropriately.\n",
    "    '''\n",
    "    # Replace `pass` with your code.\n",
    "    # Stay within the function. Only use the parameters as input. The function should return your answer.\n",
    "    new_message = \"\"\n",
    "    alphabet_1 =\"ABCDEFGHIJKLMNOPQRSTUVWXYZ\"\n",
    "    alphabet_1_len = len(alphabet_1)\n",
    "    \n",
    "    for letter in message: \n",
    "        if letter.isalpha():\n",
    "            is_uppercase = letter.isupper()\n",
    "            letter_index = alphabet_1.index(letter.upper())\n",
    "            shifted_index = (letter_index + shift) % alphabet_1_len\n",
    "            shifted_letter = alphabet_1[shifted_index]\n",
    "            new_message += shifted_letter if is_uppercase else shifted_letter.lower()\n",
    "        else: \n",
    "            new_message += letter\n",
    "        \n",
    "    return new_message"
   ]
  },
  {
   "cell_type": "code",
   "execution_count": 111,
   "id": "1f042238-1abd-40c9-b70b-fb8715cdc114",
   "metadata": {},
   "outputs": [
    {
     "data": {
      "text/plain": [
       "'mjqqt'"
      ]
     },
     "execution_count": 111,
     "metadata": {},
     "output_type": "execute_result"
    }
   ],
   "source": [
    "caesar_cipher('hello',5)"
   ]
  },
  {
   "cell_type": "code",
   "execution_count": 112,
   "id": "ba1cad65-67f4-4c2a-876e-d515307bdb4c",
   "metadata": {},
   "outputs": [],
   "source": [
    "def shift_by_letter(letter, letter_shift):\n",
    "    '''Shift By Letter.\n",
    "    10 points.\n",
    "\n",
    "    Shift a letter to the right using the number equivalent of another letter.\n",
    "    The shift letter is any letter from A to Z, where A represents 0, B represents 1,\n",
    "        ..., Z represents 25.\n",
    "\n",
    "    Examples:\n",
    "    shift_by_letter(\"A\", \"A\") -> \"A\"\n",
    "    shift_by_letter(\"A\", \"C\") -> \"C\"\n",
    "    shift_by_letter(\"B\", \"K\") -> \"L\"\n",
    "    shift_by_letter(\" \", _) -> \" \"\n",
    "\n",
    "    Parameters\n",
    "    ----------\n",
    "    letter: str\n",
    "        a single uppercase English letter, or a space.\n",
    "    letter_shift: str\n",
    "        a single uppercase English letter.\n",
    "\n",
    "    Returns\n",
    "    -------\n",
    "    str\n",
    "        the letter, shifted appropriately.\n",
    "    '''\n",
    "    # Replace `pass` with your code.\n",
    "    # Stay within the function. Only use the parameters as input. The function should return your answer.\n",
    "    alphabet = list(\"ABCDEFGHIJKLMNOPQRSTUVWXYZ\")\n",
    "    shift_letter = alphabet[(alphabet.index(letter) + alphabet.index(letter_shift) % len(alphabet))] \n",
    "    \n",
    "    return shift_letter"
   ]
  },
  {
   "cell_type": "code",
   "execution_count": 113,
   "id": "0abdb745-d832-476e-8a86-ebbc3be41a5b",
   "metadata": {},
   "outputs": [
    {
     "data": {
      "text/plain": [
       "'L'"
      ]
     },
     "execution_count": 113,
     "metadata": {},
     "output_type": "execute_result"
    }
   ],
   "source": [
    "shift_by_letter(\"B\",\"K\")"
   ]
  },
  {
   "cell_type": "code",
   "execution_count": 114,
   "id": "38ebd1df-f5e9-445b-9f71-84a26f6acec9",
   "metadata": {},
   "outputs": [],
   "source": [
    "def vigenere_cipher(message, key):\n",
    "    '''Vigenere Cipher.\n",
    "    15 points.\n",
    "\n",
    "    Encrypts a message using a keyphrase instead of a static number.\n",
    "    Every letter in the message is shifted by the number represented by the\n",
    "        respective letter in the key.\n",
    "    Spaces should be ignored.\n",
    "\n",
    "    Example:\n",
    "    vigenere_cipher(\"A C\", \"KEY\") -> \"K A\"\n",
    "\n",
    "    If needed, the keyphrase is extended to match the length of the key.\n",
    "        If the key is \"KEY\" and the message is \"LONGTEXT\",\n",
    "        the key will be extended to be \"KEYKEYKE\".\n",
    "\n",
    "    Parameters\n",
    "    ----------\n",
    "    message: str\n",
    "        a string of uppercase English letters and spaces.\n",
    "    key: str\n",
    "        a string of uppercase English letters. Will never be longer than the message.\n",
    "        Will never contain spaces.\n",
    "\n",
    "    Returns\n",
    "    -------\n",
    "    str\n",
    "        the message, shifted appropriately.\n",
    "    '''\n",
    "    # Replace `pass` with your code.\n",
    "    # Stay within the function. Only use the parameters as input. The function should return your answer.\n",
    "    encrypted_message = \"\"\n",
    "    for i in range(len(message)):\n",
    "        if message[i] == ' ':\n",
    "            encrypted_message += ' '\n",
    "        else:\n",
    "            shift = ord(message[i]) - ord('A')\n",
    "            key_shift = ord(key[i]) - ord('A')\n",
    "            shifted_value = (shift + key_shift) % 26\n",
    "            encrypted_message += chr(shifted_value + ord('A'))\n",
    "\n",
    "    return encrypted_message"
   ]
  },
  {
   "cell_type": "code",
   "execution_count": 115,
   "id": "fc9e6d24-afc0-4f24-b4c8-a2c1ce63d89d",
   "metadata": {},
   "outputs": [],
   "source": [
    "alphabet = \"ABCDEFGHIJKLMNOPQRSTUVWXYZ\""
   ]
  },
  {
   "cell_type": "code",
   "execution_count": 116,
   "id": "d304ea9d-6893-4f46-86c9-53b52e1ecf28",
   "metadata": {},
   "outputs": [
    {
     "data": {
      "text/plain": [
       "'K A'"
      ]
     },
     "execution_count": 116,
     "metadata": {},
     "output_type": "execute_result"
    }
   ],
   "source": [
    "vigenere_cipher(\"A C\",\"KEY\")"
   ]
  },
  {
   "cell_type": "code",
   "execution_count": 117,
   "id": "d2f2a8c1-95ca-4682-b691-97db4da418af",
   "metadata": {},
   "outputs": [],
   "source": [
    "def scytale_cipher(message, shift):\n",
    "    '''Scytale Cipher.\n",
    "    15 points.\n",
    "\n",
    "    Encrypts a message by simulating a scytale cipher.\n",
    "\n",
    "    A scytale is a cylinder around which you can wrap a long strip of\n",
    "        parchment that contained a string of apparent gibberish. The parchment,\n",
    "        when read using the scytale, would reveal a message due to every nth\n",
    "        letter now appearing next to each other, revealing a proper message.\n",
    "    This encryption method is obsolete and should never be used to encrypt\n",
    "        data in production settings.\n",
    "\n",
    "    You may read more about the method here:\n",
    "        https://en.wikipedia.org/wiki/Scytale\n",
    "\n",
    "    You may follow this algorithm to implement a scytale-style cipher:\n",
    "    1. Take a message to be encoded and a \"shift\" number.\n",
    "        For this example, we will use \"INFORMATION_AGE\" as\n",
    "        the message and 3 as the shift.\n",
    "    2. Check if the length of the message is a multiple of\n",
    "        the shift. If it is not, add additional underscores\n",
    "        to the end of the message until it is.\n",
    "        In this example, \"INFORMATION_AGE\" is already a multiple of 3,\n",
    "        so we will leave it alone.\n",
    "    3. This is the tricky part. Construct the encoded message.\n",
    "        For each index i in the encoded message, use the character at the index\n",
    "        (i // shift) + (len(message) // shift) * (i % shift) of the raw message.\n",
    "        If this number doesn't make sense, you can play around with the cipher at\n",
    "         https://dencode.com/en/cipher/scytale to try to understand it.\n",
    "    4. Return the encoded message. In this case,\n",
    "        the output should be \"IMNNA_FTAOIGROE\".\n",
    "\n",
    "    Example:\n",
    "    scytale_cipher(\"INFORMATION_AGE\", 3) -> \"IMNNA_FTAOIGROE\"\n",
    "    scytale_cipher(\"INFORMATION_AGE\", 4) -> \"IRIANMOGFANEOT__\"\n",
    "    scytale_cipher(\"ALGORITHMS_ARE_IMPORTANT\", 8) -> \"AOTSRIOALRH_EMRNGIMA_PTT\"\n",
    "\n",
    "    Parameters\n",
    "    ----------\n",
    "    message: str\n",
    "        a string of uppercase English letters and underscores (underscores represent spaces)\n",
    "    shift: int\n",
    "        a positive int that does not exceed the length of message\n",
    "\n",
    "    Returns\n",
    "    -------\n",
    "    str\n",
    "        the encoded message\n",
    "    '''\n",
    "    # Replace `pass` with your code.\n",
    "    # Stay within the function. Only use the parameters as input. The function should return your answer.\n",
    "    remainder = len(message) % shift\n",
    "    if remainder > 0:\n",
    "        message += \"_\" * (shift - remainder)\n",
    "\n",
    "    encoded_message = \"\"\n",
    "    for i in range(len(message)):\n",
    "        index = (i // shift) + (len(message) // shift) * (i % shift)\n",
    "        encoded_message += message[index]\n",
    "\n",
    "    return encoded_message\n"
   ]
  },
  {
   "cell_type": "code",
   "execution_count": 118,
   "id": "8cfa7437-5f72-4dcc-8ae6-1cb6240f105f",
   "metadata": {},
   "outputs": [
    {
     "data": {
      "text/plain": [
       "'AOTSRIOALRH_EMRNGIMA_PTT'"
      ]
     },
     "execution_count": 118,
     "metadata": {},
     "output_type": "execute_result"
    }
   ],
   "source": [
    "scytale_cipher(\"ALGORITHMS_ARE_IMPORTANT\", 8)"
   ]
  },
  {
   "cell_type": "code",
   "execution_count": 119,
   "id": "34a37e8e-0ea8-485a-93cd-979772878e4a",
   "metadata": {},
   "outputs": [],
   "source": [
    "def scytale_decipher(message, shift):\n",
    "    '''Scytale De-cipher.\n",
    "    15 points.\n",
    "\n",
    "    Decrypts a message that was originally encrypted with the `scytale_cipher` function above.\n",
    "\n",
    "    Example:\n",
    "    scytale_decipher(\"IMNNA_FTAOIGROE\", 3) -> \"INFORMATION_AGE\"\n",
    "    scytale_decipher(\"AOTSRIOALRH_EMRNGIMA_PTT\", 8) -> \"ALGORITHMS_ARE_IMPORTANT\"\n",
    "    scytale_decipher(\"IRIANMOGFANEOT__\", 4) -> \"INFORMATION_AGE_\"\n",
    "\n",
    "    There is no further brief for this number.\n",
    "\n",
    "    Parameters\n",
    "    ----------\n",
    "    message: str\n",
    "        a string of uppercase English letters and underscores (underscores represent spaces)\n",
    "    shift: int\n",
    "        a positive int that does not exceed the length of message\n",
    "\n",
    "    Returns\n",
    "    -------\n",
    "    str\n",
    "        the decoded message\n",
    "    '''\n",
    "    # Replace `pass` with your code.\n",
    "    # Stay within the function. Only use the parameters as input. The function should return your answer.\n",
    "    decoded_message = \"\"\n",
    "    num_groups = len(message) // shift\n",
    "    \n",
    "    for i in range(num_groups):\n",
    "        for j in range(shift):\n",
    "            position = j * num_groups + i\n",
    "            decoded_message += message[position]\n",
    "    \n",
    "    return decoded_message"
   ]
  },
  {
   "cell_type": "code",
   "execution_count": 121,
   "id": "a52ee5b3-3196-433e-bdff-b5857e1d1800",
   "metadata": {},
   "outputs": [
    {
     "data": {
      "text/plain": [
       "'ASORENMPORAHMGATTIL_RI_T'"
      ]
     },
     "execution_count": 121,
     "metadata": {},
     "output_type": "execute_result"
    }
   ],
   "source": [
    "scytale_decipher(\"AOTSRIOALRH_EMRNGIMA_PTT\", 8)"
   ]
  },
  {
   "cell_type": "code",
   "execution_count": null,
   "id": "c751f17d-86d9-4e76-8438-95897a7dbf3c",
   "metadata": {},
   "outputs": [],
   "source": []
  }
 ],
 "metadata": {
  "kernelspec": {
   "display_name": "Python 3 (ipykernel)",
   "language": "python",
   "name": "python3"
  },
  "language_info": {
   "codemirror_mode": {
    "name": "ipython",
    "version": 3
   },
   "file_extension": ".py",
   "mimetype": "text/x-python",
   "name": "python",
   "nbconvert_exporter": "python",
   "pygments_lexer": "ipython3",
   "version": "3.10.9"
  }
 },
 "nbformat": 4,
 "nbformat_minor": 5
}
